{
 "cells": [
  {
   "cell_type": "code",
   "execution_count": 109,
   "metadata": {
    "colab": {
     "base_uri": "https://localhost:8080/",
     "height": 54
    },
    "colab_type": "code",
    "executionInfo": {
     "elapsed": 799,
     "status": "ok",
     "timestamp": 1553866470246,
     "user": {
      "displayName": "RouSage",
      "photoUrl": "https://lh4.googleusercontent.com/-Uvsp4w70AS8/AAAAAAAAAAI/AAAAAAAAAMQ/UlSyYZGV0S8/s64/photo.jpg",
      "userId": "06105117302641127025"
     },
     "user_tz": -180
    },
    "id": "_fZZXJeeHn9_",
    "outputId": "bffcbf8b-7932-480a-e140-f5fde0a41f1e"
   },
   "outputs": [
    {
     "name": "stdout",
     "output_type": "stream",
     "text": [
      "Drive already mounted at /content/drive/; to attempt to forcibly remount, call drive.mount(\"/content/drive/\", force_remount=True).\n"
     ]
    }
   ],
   "source": [
    "from google.colab import drive\n",
    "drive.mount(\"/content/drive/\")"
   ]
  },
  {
   "cell_type": "code",
   "execution_count": 110,
   "metadata": {
    "colab": {
     "base_uri": "https://localhost:8080/",
     "height": 34
    },
    "colab_type": "code",
    "executionInfo": {
     "elapsed": 2013,
     "status": "ok",
     "timestamp": 1553866473129,
     "user": {
      "displayName": "RouSage",
      "photoUrl": "https://lh4.googleusercontent.com/-Uvsp4w70AS8/AAAAAAAAAAI/AAAAAAAAAMQ/UlSyYZGV0S8/s64/photo.jpg",
      "userId": "06105117302641127025"
     },
     "user_tz": -180
    },
    "id": "7taaddlAH16d",
    "outputId": "e65dccd2-4dcf-41dd-80d5-b50f303e7630"
   },
   "outputs": [
    {
     "name": "stdout",
     "output_type": "stream",
     "text": [
      "datasets  diploma.ipynb  LICENSE  README.md  requirements.txt  trained_models\n"
     ]
    }
   ],
   "source": [
    "!ls \"/content/drive/My Drive/diploma/\""
   ]
  },
  {
   "cell_type": "code",
   "execution_count": 0,
   "metadata": {
    "colab": {},
    "colab_type": "code",
    "id": "cDGunkVlHfBV"
   },
   "outputs": [],
   "source": [
    "%matplotlib inline\n",
    "import os\n",
    "import numpy as np\n",
    "import matplotlib.pyplot as plt\n",
    "import torch\n",
    "from torch.utils.data import Dataset, DataLoader \n",
    "import torchvision\n",
    "from torchvision import transforms, utils"
   ]
  },
  {
   "cell_type": "code",
   "execution_count": 112,
   "metadata": {
    "colab": {
     "base_uri": "https://localhost:8080/",
     "height": 51
    },
    "colab_type": "code",
    "executionInfo": {
     "elapsed": 537,
     "status": "ok",
     "timestamp": 1553866477685,
     "user": {
      "displayName": "RouSage",
      "photoUrl": "https://lh4.googleusercontent.com/-Uvsp4w70AS8/AAAAAAAAAAI/AAAAAAAAAMQ/UlSyYZGV0S8/s64/photo.jpg",
      "userId": "06105117302641127025"
     },
     "user_tz": -180
    },
    "id": "2z6NvvUUHfBZ",
    "outputId": "8a78c1b6-a623-452d-d61d-78503b8f731a"
   },
   "outputs": [
    {
     "name": "stdout",
     "output_type": "stream",
     "text": [
      "Torch version: 1.0.1.post2\n",
      "Torchvision version: 0.2.2\n"
     ]
    }
   ],
   "source": [
    "print(\"Torch version: {}\".format(torch.__version__))\n",
    "print(\"Torchvision version: {}\".format(torchvision.__version__))"
   ]
  },
  {
   "cell_type": "code",
   "execution_count": 113,
   "metadata": {
    "colab": {
     "base_uri": "https://localhost:8080/",
     "height": 34
    },
    "colab_type": "code",
    "executionInfo": {
     "elapsed": 703,
     "status": "ok",
     "timestamp": 1553866480254,
     "user": {
      "displayName": "RouSage",
      "photoUrl": "https://lh4.googleusercontent.com/-Uvsp4w70AS8/AAAAAAAAAAI/AAAAAAAAAMQ/UlSyYZGV0S8/s64/photo.jpg",
      "userId": "06105117302641127025"
     },
     "user_tz": -180
    },
    "id": "qvy28k3sH9Wp",
    "outputId": "f9581ce4-2ba8-4d5f-a2a4-48306ad56d82"
   },
   "outputs": [
    {
     "data": {
      "text/plain": [
       "True"
      ]
     },
     "execution_count": 113,
     "metadata": {
      "tags": []
     },
     "output_type": "execute_result"
    }
   ],
   "source": [
    "torch.cuda.is_available()"
   ]
  },
  {
   "cell_type": "code",
   "execution_count": 0,
   "metadata": {
    "colab": {},
    "colab_type": "code",
    "id": "-V4gHhhYJUdG"
   },
   "outputs": [],
   "source": [
    "path_to_app = \"/content/drive/My Drive/diploma/\""
   ]
  },
  {
   "cell_type": "code",
   "execution_count": 115,
   "metadata": {
    "colab": {
     "base_uri": "https://localhost:8080/",
     "height": 51
    },
    "colab_type": "code",
    "executionInfo": {
     "elapsed": 3747,
     "status": "ok",
     "timestamp": 1553866488256,
     "user": {
      "displayName": "RouSage",
      "photoUrl": "https://lh4.googleusercontent.com/-Uvsp4w70AS8/AAAAAAAAAAI/AAAAAAAAAMQ/UlSyYZGV0S8/s64/photo.jpg",
      "userId": "06105117302641127025"
     },
     "user_tz": -180
    },
    "id": "Pqo1jakZHfBf",
    "outputId": "e7793d9e-bf41-468a-eb0f-7f9699f52b8e"
   },
   "outputs": [
    {
     "name": "stdout",
     "output_type": "stream",
     "text": [
      "Files already downloaded and verified\n",
      "Files already downloaded and verified\n"
     ]
    }
   ],
   "source": [
    "data_transforms = {\n",
    "    'train': transforms.Compose([\n",
    "        transforms.RandomHorizontalFlip(),\n",
    "        transforms.ToTensor(),\n",
    "        transforms.Normalize((0.5, 0.5, 0.5), (0.5, 0.5, 0.5))\n",
    "    ]),\n",
    "    'test': transforms.Compose([\n",
    "        transforms.ToTensor(),\n",
    "        transforms.Normalize((0.5, 0.5, 0.5), (0.5, 0.5, 0.5))\n",
    "    ])\n",
    "}\n",
    "\n",
    "trainset = torchvision.datasets.CIFAR10(root=os.path.join(path_to_app, \"datasets\"), train=True,\n",
    "                                        transform=data_transforms['train'], download=True)\n",
    "trainset_loader = DataLoader(trainset, batch_size=10, shuffle=True, num_workers=2)\n",
    "\n",
    "testset = torchvision.datasets.CIFAR10(root=os.path.join(path_to_app, \"datasets\"), train=False,\n",
    "                                      transform=data_transforms['test'], download=True)\n",
    "testset_loader = DataLoader(testset, batch_size=10, shuffle=False, num_workers=2)\n",
    "\n",
    "classes = ('plane', 'car', 'bird', 'cat', 'deer',\n",
    "          'dog', 'frog', 'horse', 'ship', 'truck')"
   ]
  },
  {
   "cell_type": "code",
   "execution_count": 0,
   "metadata": {
    "colab": {},
    "colab_type": "code",
    "id": "ddvvlQ9iHfBk"
   },
   "outputs": [],
   "source": [
    "def imshow(images):\n",
    "    images = images / 2 + 0.5\n",
    "    np_img = images.numpy()\n",
    "    plt.imshow(np.transpose(np_img, (1, 2, 0)))\n",
    "    plt.show()"
   ]
  },
  {
   "cell_type": "code",
   "execution_count": 0,
   "metadata": {
    "colab": {},
    "colab_type": "code",
    "id": "SG_k_mvBHfBn"
   },
   "outputs": [],
   "source": [
    "dataiter = iter(trainset_loader)\n",
    "images, labels = dataiter.next()"
   ]
  },
  {
   "cell_type": "code",
   "execution_count": 118,
   "metadata": {
    "colab": {
     "base_uri": "https://localhost:8080/",
     "height": 51
    },
    "colab_type": "code",
    "executionInfo": {
     "elapsed": 820,
     "status": "ok",
     "timestamp": 1553866495151,
     "user": {
      "displayName": "RouSage",
      "photoUrl": "https://lh4.googleusercontent.com/-Uvsp4w70AS8/AAAAAAAAAAI/AAAAAAAAAMQ/UlSyYZGV0S8/s64/photo.jpg",
      "userId": "06105117302641127025"
     },
     "user_tz": -180
    },
    "id": "LzdnZNq9HfBq",
    "outputId": "e7a76d50-f813-4eb6-d068-106540fd41d0"
   },
   "outputs": [
    {
     "name": "stdout",
     "output_type": "stream",
     "text": [
      "Images shape torch.Size([10, 3, 32, 32])\n",
      "Labels shape torch.Size([10])\n"
     ]
    }
   ],
   "source": [
    "print('Images shape {}'.format(images.size()))\n",
    "print('Labels shape {}'.format(labels.shape))"
   ]
  },
  {
   "cell_type": "code",
   "execution_count": 119,
   "metadata": {
    "colab": {
     "base_uri": "https://localhost:8080/",
     "height": 204
    },
    "colab_type": "code",
    "executionInfo": {
     "elapsed": 1028,
     "status": "ok",
     "timestamp": 1553866497428,
     "user": {
      "displayName": "RouSage",
      "photoUrl": "https://lh4.googleusercontent.com/-Uvsp4w70AS8/AAAAAAAAAAI/AAAAAAAAAMQ/UlSyYZGV0S8/s64/photo.jpg",
      "userId": "06105117302641127025"
     },
     "user_tz": -180
    },
    "id": "hlujkc_xHfBu",
    "outputId": "92859317-a765-4d2e-b4d5-3db30d349895"
   },
   "outputs": [
    {
     "data": {
      "image/png": "[encoded data removed]",
      "text/plain": [
       "<Figure size 432x288 with 1 Axes>"
      ]
     },
     "metadata": {
      "tags": []
     },
     "output_type": "display_data"
    },
    {
     "name": "stdout",
     "output_type": "stream",
     "text": [
      "ship plane truck ship car bird truck car frog dog\n"
     ]
    }
   ],
   "source": [
    "# Show 10 images\n",
    "imshow(utils.make_grid(images, nrow=5))\n",
    "print(' '.join('%s' % classes[labels[j]] for j in range(len(labels))))"
   ]
  },
  {
   "cell_type": "code",
   "execution_count": 120,
   "metadata": {
    "colab": {
     "base_uri": "https://localhost:8080/",
     "height": 283
    },
    "colab_type": "code",
    "executionInfo": {
     "elapsed": 985,
     "status": "ok",
     "timestamp": 1553866504270,
     "user": {
      "displayName": "RouSage",
      "photoUrl": "https://lh4.googleusercontent.com/-Uvsp4w70AS8/AAAAAAAAAAI/AAAAAAAAAMQ/UlSyYZGV0S8/s64/photo.jpg",
      "userId": "06105117302641127025"
     },
     "user_tz": -180
    },
    "id": "UNPNsXIUKbPl",
    "outputId": "e3fbe1bd-39a3-4960-ef7b-07d882cad0a5"
   },
   "outputs": [
    {
     "data": {
      "image/png": "[encoded data removed]",
      "text/plain": [
       "<Figure size 432x288 with 1 Axes>"
      ]
     },
     "metadata": {
      "tags": []
     },
     "output_type": "display_data"
    },
    {
     "name": "stdout",
     "output_type": "stream",
     "text": [
      "plane\n"
     ]
    }
   ],
   "source": [
    "# Show 1 image\n",
    "images, labels = dataiter.next()\n",
    "imshow(images[0])\n",
    "print(classes[labels[0]])"
   ]
  },
  {
   "cell_type": "code",
   "execution_count": 0,
   "metadata": {
    "colab": {},
    "colab_type": "code",
    "id": "tlcm7KEnHfBz"
   },
   "outputs": [],
   "source": [
    "import torch.nn as nn"
   ]
  },
  {
   "cell_type": "code",
   "execution_count": 0,
   "metadata": {
    "colab": {},
    "colab_type": "code",
    "id": "veFM5DleHfB2"
   },
   "outputs": [],
   "source": [
    "class CNN(nn.Module):\n",
    "    \n",
    "    def __init__(self):\n",
    "        super(CNN, self).__init__()\n",
    "\n",
    "        self.conv_layer = nn.Sequential(\n",
    "            # Conv Layer block 1\n",
    "            # Input: (32x32x3)\n",
    "            # Output (32x32x32)\n",
    "            nn.Conv2d(in_channels=3, out_channels=32, kernel_size=3, padding=1),\n",
    "            nn.BatchNorm2d(32),\n",
    "            nn.ReLU(inplace=True),\n",
    "            # Output: (32x32x64)\n",
    "            nn.Conv2d(in_channels=32, out_channels=64, kernel_size=3, padding=1),\n",
    "            nn.ReLU(inplace=True),\n",
    "            # Output: (16x16x64)\n",
    "            nn.MaxPool2d(kernel_size=2, stride=2),\n",
    "            \n",
    "            # Conv Layer block2\n",
    "            \n",
    "            # Output: (16x16x128)\n",
    "            nn.Conv2d(in_channels=64, out_channels=128, kernel_size=3, padding=1),\n",
    "            nn.BatchNorm2d(128),\n",
    "            nn.ReLU(inplace=True),\n",
    "            # Output: (16x16x128)\n",
    "            nn.Conv2d(in_channels=128, out_channels=128, kernel_size=3, padding=1),\n",
    "            nn.ReLU(inplace=True),\n",
    "            # Output: (8x8x128)\n",
    "            nn.MaxPool2d(kernel_size=2, stride=2),\n",
    "            \n",
    "            # Conv Layer block2\n",
    "            \n",
    "            # Output: (8x8x256)\n",
    "            nn.Conv2d(in_channels=128, out_channels=256, kernel_size=3, padding=1),\n",
    "            nn.BatchNorm2d(256),\n",
    "            nn.ReLU(inplace=True),\n",
    "            # Output: (8x8x256)\n",
    "            nn.Conv2d(in_channels=256, out_channels=256, kernel_size=3, padding=1),\n",
    "            nn.ReLU(inplace=True),\n",
    "            # Output: (4x4x256)\n",
    "            nn.MaxPool2d(kernel_size=2, stride=2)\n",
    "        )\n",
    "        \n",
    "        self.fc_layer = nn.Sequential(\n",
    "            nn.Dropout(p=0.1),\n",
    "            # 4096 = 4*4*256\n",
    "            nn.Linear(in_features=4096, out_features=1024),\n",
    "            nn.ReLU(inplace=True),\n",
    "            nn.Dropout(p=0.5),\n",
    "            nn.Linear(in_features=1024, out_features=512),\n",
    "            nn.ReLU(inplace=True),\n",
    "            nn.Dropout(p=0.5),\n",
    "            nn.Linear(in_features=512, out_features=10)\n",
    "        )\n",
    "        \n",
    "    def forward(self, x):\n",
    "        \n",
    "        x = self.conv_layer(x)\n",
    "        \n",
    "        # Flatten\n",
    "        x = x.view(x.size(0), -1)\n",
    "        \n",
    "        x = self.fc_layer(x)\n",
    "        \n",
    "        return x"
   ]
  },
  {
   "cell_type": "code",
   "execution_count": 0,
   "metadata": {
    "colab": {},
    "colab_type": "code",
    "id": "JBntrSxnHfB5"
   },
   "outputs": [],
   "source": [
    "import time\n",
    "\n",
    "def train_model(model, dataloaders, criterion, optimizer, num_epochs=25):\n",
    "    since = time.time() \n",
    "    \n",
    "    train_acc_history = []\n",
    "    val_acc_history = []\n",
    "    \n",
    "    for epoch in range(num_epochs):\n",
    "        print(\"Epoch {}/{}:\\n\".format(epoch+1, num_epochs))\n",
    "        \n",
    "        # Each epoch has a train and validation phase\n",
    "        for phase in [\"train\", \"val\"]:\n",
    "            if phase == \"train\":\n",
    "                # Set model to training mode\n",
    "                model = model.train()\n",
    "            else:\n",
    "                # Set model to evaluate mode\n",
    "                model = model.eval()\n",
    "                \n",
    "            running_loss = 0.0\n",
    "            running_corrects = 0\n",
    "            \n",
    "            # Iterate over data\n",
    "            for _, data in enumerate(dataloaders[phase]):\n",
    "                inputs, labels = data\n",
    "                inputs = inputs.to(device)\n",
    "                labels = labels.to(device)\n",
    "                \n",
    "                # Zero the parameter gradients\n",
    "                optimizer.zero_grad()\n",
    "                \n",
    "                # Forward\n",
    "                # Trach history if only in train\n",
    "                with torch.set_grad_enabled(phase == \"train\"):\n",
    "                    # Get model outputs and calculate loss\n",
    "                    outputs = model(inputs)\n",
    "                    loss = criterion(outputs, labels)\n",
    "                    \n",
    "                    _, predicted = torch.max(outputs, 1)\n",
    "                    \n",
    "                    # Backward + optimize if only in train\n",
    "                    if phase == \"train\":\n",
    "                        loss.backward()\n",
    "                        optimizer.step()\n",
    "                \n",
    "                # Statistics\n",
    "                running_loss += loss.item() * inputs.size(0)\n",
    "                running_corrects += torch.sum(predicted == labels.data)\n",
    "            \n",
    "            epoch_loss = running_loss / len(dataloaders[phase].dataset)\n",
    "            epoch_acc = running_corrects.double() / len(dataloaders[phase].dataset)\n",
    "            \n",
    "            print(\"{} Loss: {:.4f} | Accuracy: {:.4f}\\n\".format(phase, epoch_loss, epoch_acc))\n",
    "            \n",
    "            # Update accuracy history\n",
    "            if phase == \"train\":\n",
    "                train_acc_history.append(epoch_acc)\n",
    "            elif phase == \"val\":\n",
    "                val_acc_history.append(epoch_acc)\n",
    "                \n",
    "            \n",
    "    time_elapsed = time.time() - since\n",
    "    print(\"Training complete in {:.0f}m {:.0f}s\".format(time_elapsed // 60, time_elapsed % 60))\n",
    "    \n",
    "    return model, train_acc_history, val_acc_history"
   ]
  },
  {
   "cell_type": "code",
   "execution_count": 129,
   "metadata": {
    "colab": {
     "base_uri": "https://localhost:8080/",
     "height": 595
    },
    "colab_type": "code",
    "executionInfo": {
     "elapsed": 1035,
     "status": "ok",
     "timestamp": 1553867145812,
     "user": {
      "displayName": "RouSage",
      "photoUrl": "https://lh4.googleusercontent.com/-Uvsp4w70AS8/AAAAAAAAAAI/AAAAAAAAAMQ/UlSyYZGV0S8/s64/photo.jpg",
      "userId": "06105117302641127025"
     },
     "user_tz": -180
    },
    "id": "fqtFz3H1HfB9",
    "outputId": "dccbc5d8-e15c-4481-8623-d335b1cd05d8"
   },
   "outputs": [
    {
     "name": "stdout",
     "output_type": "stream",
     "text": [
      "CNN(\n",
      "  (conv_layer): Sequential(\n",
      "    (0): Conv2d(3, 32, kernel_size=(3, 3), stride=(1, 1), padding=(1, 1))\n",
      "    (1): BatchNorm2d(32, eps=1e-05, momentum=0.1, affine=True, track_running_stats=True)\n",
      "    (2): ReLU(inplace)\n",
      "    (3): Conv2d(32, 64, kernel_size=(3, 3), stride=(1, 1), padding=(1, 1))\n",
      "    (4): ReLU(inplace)\n",
      "    (5): MaxPool2d(kernel_size=2, stride=2, padding=0, dilation=1, ceil_mode=False)\n",
      "    (6): Conv2d(64, 128, kernel_size=(3, 3), stride=(1, 1), padding=(1, 1))\n",
      "    (7): BatchNorm2d(128, eps=1e-05, momentum=0.1, affine=True, track_running_stats=True)\n",
      "    (8): ReLU(inplace)\n",
      "    (9): Conv2d(128, 128, kernel_size=(3, 3), stride=(1, 1), padding=(1, 1))\n",
      "    (10): ReLU(inplace)\n",
      "    (11): MaxPool2d(kernel_size=2, stride=2, padding=0, dilation=1, ceil_mode=False)\n",
      "    (12): Conv2d(128, 256, kernel_size=(3, 3), stride=(1, 1), padding=(1, 1))\n",
      "    (13): BatchNorm2d(256, eps=1e-05, momentum=0.1, affine=True, track_running_stats=True)\n",
      "    (14): ReLU(inplace)\n",
      "    (15): Conv2d(256, 256, kernel_size=(3, 3), stride=(1, 1), padding=(1, 1))\n",
      "    (16): ReLU(inplace)\n",
      "    (17): MaxPool2d(kernel_size=2, stride=2, padding=0, dilation=1, ceil_mode=False)\n",
      "  )\n",
      "  (fc_layer): Sequential(\n",
      "    (0): Dropout(p=0.1)\n",
      "    (1): Linear(in_features=4096, out_features=1024, bias=True)\n",
      "    (2): ReLU(inplace)\n",
      "    (3): Dropout(p=0.5)\n",
      "    (4): Linear(in_features=1024, out_features=512, bias=True)\n",
      "    (5): ReLU(inplace)\n",
      "    (6): Dropout(p=0.5)\n",
      "    (7): Linear(in_features=512, out_features=10, bias=True)\n",
      "  )\n",
      ")\n",
      "Net's total parameters: 24\n",
      "First layer's weights size: torch.Size([32, 3, 3, 3])\n"
     ]
    }
   ],
   "source": [
    "# Initialize Net\n",
    "net = CNN()\n",
    "print(net)\n",
    "\n",
    "# Net's parameters\n",
    "params = list(net.parameters())\n",
    "print(\"Net's total parameters: {}\".format(len(params)))\n",
    "# Conv2d's (0) weights\n",
    "print(\"First layer's weights size: {}\".format(params[0].size()))\n",
    "\n",
    "# Parameters for training\n",
    "num_epochs = 5\n",
    "\n",
    "# Dataloaders for training and validation phases\n",
    "dataloaders_dict = {\n",
    "    \"train\": trainset_loader,\n",
    "    \"val\": testset_loader\n",
    "}\n",
    "\n",
    "from torch import optim as optim\n",
    "\n",
    "# Loss function and optimizer\n",
    "criterion = nn.CrossEntropyLoss()\n",
    "optimizer = optim.Adam(net.parameters(), 0.001)"
   ]
  },
  {
   "cell_type": "code",
   "execution_count": 130,
   "metadata": {
    "colab": {
     "base_uri": "https://localhost:8080/",
     "height": 34
    },
    "colab_type": "code",
    "executionInfo": {
     "elapsed": 1045,
     "status": "ok",
     "timestamp": 1553867148772,
     "user": {
      "displayName": "RouSage",
      "photoUrl": "https://lh4.googleusercontent.com/-Uvsp4w70AS8/AAAAAAAAAAI/AAAAAAAAAMQ/UlSyYZGV0S8/s64/photo.jpg",
      "userId": "06105117302641127025"
     },
     "user_tz": -180
    },
    "id": "zDnBzhbqHfCB",
    "outputId": "0ebbbcfb-b17f-4cfa-d403-b550064c44d0"
   },
   "outputs": [
    {
     "name": "stdout",
     "output_type": "stream",
     "text": [
      "cuda:0\n"
     ]
    }
   ],
   "source": [
    "# Detect if GPU is available\n",
    "device = torch.device(\"cuda:0\" if torch.cuda.is_available() else \"cpu\")\n",
    "print(device)"
   ]
  },
  {
   "cell_type": "code",
   "execution_count": 131,
   "metadata": {
    "colab": {
     "base_uri": "https://localhost:8080/",
     "height": 544
    },
    "colab_type": "code",
    "executionInfo": {
     "elapsed": 543086,
     "status": "ok",
     "timestamp": 1553867692858,
     "user": {
      "displayName": "RouSage",
      "photoUrl": "https://lh4.googleusercontent.com/-Uvsp4w70AS8/AAAAAAAAAAI/AAAAAAAAAMQ/UlSyYZGV0S8/s64/photo.jpg",
      "userId": "06105117302641127025"
     },
     "user_tz": -180
    },
    "id": "J8VwEG92HfCF",
    "outputId": "854c4c5f-538e-4da1-e70b-6fec471a151a"
   },
   "outputs": [
    {
     "name": "stdout",
     "output_type": "stream",
     "text": [
      "Epoch 1/5:\n",
      "\n",
      "train Loss: 1.8188 | Accuracy: 0.3178\n",
      "\n",
      "val Loss: 1.4307 | Accuracy: 0.4600\n",
      "\n",
      "Epoch 2/5:\n",
      "\n",
      "train Loss: 1.3936 | Accuracy: 0.4939\n",
      "\n",
      "val Loss: 1.1098 | Accuracy: 0.6074\n",
      "\n",
      "Epoch 3/5:\n",
      "\n",
      "train Loss: 1.1364 | Accuracy: 0.6014\n",
      "\n",
      "val Loss: 0.9618 | Accuracy: 0.6641\n",
      "\n",
      "Epoch 4/5:\n",
      "\n",
      "train Loss: 1.0050 | Accuracy: 0.6571\n",
      "\n",
      "val Loss: 0.8647 | Accuracy: 0.6962\n",
      "\n",
      "Epoch 5/5:\n",
      "\n",
      "train Loss: 0.9149 | Accuracy: 0.6896\n",
      "\n",
      "val Loss: 0.7945 | Accuracy: 0.7287\n",
      "\n",
      "Training complete in 9m 2s\n"
     ]
    }
   ],
   "source": [
    "# Send the model to device\n",
    "net = net.to(device)\n",
    "\n",
    "net, train_acc_history, val_acc_history = train_model(net, dataloaders_dict, criterion, optimizer, num_epochs)"
   ]
  },
  {
   "cell_type": "code",
   "execution_count": 148,
   "metadata": {
    "colab": {
     "base_uri": "https://localhost:8080/",
     "height": 296
    },
    "colab_type": "code",
    "executionInfo": {
     "elapsed": 930,
     "status": "ok",
     "timestamp": 1553872790060,
     "user": {
      "displayName": "RouSage",
      "photoUrl": "https://lh4.googleusercontent.com/-Uvsp4w70AS8/AAAAAAAAAAI/AAAAAAAAAMQ/UlSyYZGV0S8/s64/photo.jpg",
      "userId": "06105117302641127025"
     },
     "user_tz": -180
    },
    "id": "ch7V3SvZBSEq",
    "outputId": "a8b8003e-5f3b-443a-b2a7-73951f674b46"
   },
   "outputs": [
    {
     "data": {
      "text/plain": [
       "<matplotlib.legend.Legend at 0x7fbd65ef42b0>"
      ]
     },
     "execution_count": 148,
     "metadata": {
      "tags": []
     },
     "output_type": "execute_result"
    },
    {
     "data": {
      "image/png": "[encoded data removed]",
      "text/plain": [
       "<Figure size 432x288 with 1 Axes>"
      ]
     },
     "metadata": {
      "tags": []
     },
     "output_type": "display_data"
    }
   ],
   "source": [
    "# Plot train/validation accuracy\n",
    "plt.plot(train_acc_history, label=\"Train\")\n",
    "plt.plot(val_acc_history, label=\"Validation\")\n",
    "plt.xlabel(\"Epochs\")\n",
    "plt.ylabel(\"Accuracy\")\n",
    "plt.legend(loc=\"best\")"
   ]
  },
  {
   "cell_type": "code",
   "execution_count": 0,
   "metadata": {
    "colab": {},
    "colab_type": "code",
    "id": "dVFe9NNpPOZn"
   },
   "outputs": [],
   "source": [
    "def save_model(model, path):\n",
    "  torch.save(model.state_dict(), path)"
   ]
  },
  {
   "cell_type": "code",
   "execution_count": 0,
   "metadata": {
    "colab": {},
    "colab_type": "code",
    "id": "HrdaNVdiWC0D"
   },
   "outputs": [],
   "source": [
    "save_model(net, os.path.join(path_to_app, \"trained_models\", \"net_5e_072acc.pt\"))"
   ]
  },
  {
   "cell_type": "code",
   "execution_count": 0,
   "metadata": {
    "colab": {},
    "colab_type": "code",
    "id": "FfcZC3rGXmyv"
   },
   "outputs": [],
   "source": [
    "net_15 = CNN()\n",
    "net_15 = net_15.to(device)\n",
    "\n",
    "optimizer_15 = optim.Adam(net_15.parameters(), lr=0.001)"
   ]
  },
  {
   "cell_type": "code",
   "execution_count": 135,
   "metadata": {
    "colab": {
     "base_uri": "https://localhost:8080/",
     "height": 1564
    },
    "colab_type": "code",
    "executionInfo": {
     "elapsed": 1655615,
     "status": "ok",
     "timestamp": 1553869376220,
     "user": {
      "displayName": "RouSage",
      "photoUrl": "https://lh4.googleusercontent.com/-Uvsp4w70AS8/AAAAAAAAAAI/AAAAAAAAAMQ/UlSyYZGV0S8/s64/photo.jpg",
      "userId": "06105117302641127025"
     },
     "user_tz": -180
    },
    "id": "UNlzPZ7qYiHA",
    "outputId": "6775d2fe-5dbc-4832-c61d-660365018c3f"
   },
   "outputs": [
    {
     "name": "stdout",
     "output_type": "stream",
     "text": [
      "Epoch 1/15:\n",
      "\n",
      "train Loss: 1.7131 | Accuracy: 0.3536\n",
      "\n",
      "val Loss: 1.3466 | Accuracy: 0.4930\n",
      "\n",
      "Epoch 2/15:\n",
      "\n",
      "train Loss: 1.2733 | Accuracy: 0.5432\n",
      "\n",
      "val Loss: 1.0841 | Accuracy: 0.6228\n",
      "\n",
      "Epoch 3/15:\n",
      "\n",
      "train Loss: 1.0646 | Accuracy: 0.6273\n",
      "\n",
      "val Loss: 0.9155 | Accuracy: 0.6778\n",
      "\n",
      "Epoch 4/15:\n",
      "\n",
      "train Loss: 0.9531 | Accuracy: 0.6730\n",
      "\n",
      "val Loss: 0.8262 | Accuracy: 0.7139\n",
      "\n",
      "Epoch 5/15:\n",
      "\n",
      "train Loss: 0.8816 | Accuracy: 0.6988\n",
      "\n",
      "val Loss: 0.8295 | Accuracy: 0.7124\n",
      "\n",
      "Epoch 6/15:\n",
      "\n",
      "train Loss: 0.8260 | Accuracy: 0.7221\n",
      "\n",
      "val Loss: 0.7766 | Accuracy: 0.7383\n",
      "\n",
      "Epoch 7/15:\n",
      "\n",
      "train Loss: 0.7866 | Accuracy: 0.7357\n",
      "\n",
      "val Loss: 0.6989 | Accuracy: 0.7636\n",
      "\n",
      "Epoch 8/15:\n",
      "\n",
      "train Loss: 0.7504 | Accuracy: 0.7499\n",
      "\n",
      "val Loss: 0.6857 | Accuracy: 0.7717\n",
      "\n",
      "Epoch 9/15:\n",
      "\n",
      "train Loss: 0.7287 | Accuracy: 0.7583\n",
      "\n",
      "val Loss: 0.6838 | Accuracy: 0.7658\n",
      "\n",
      "Epoch 10/15:\n",
      "\n",
      "train Loss: 0.7056 | Accuracy: 0.7686\n",
      "\n",
      "val Loss: 0.6822 | Accuracy: 0.7700\n",
      "\n",
      "Epoch 11/15:\n",
      "\n",
      "train Loss: 0.6837 | Accuracy: 0.7757\n",
      "\n",
      "val Loss: 0.6535 | Accuracy: 0.7854\n",
      "\n",
      "Epoch 12/15:\n",
      "\n",
      "train Loss: 0.6665 | Accuracy: 0.7820\n",
      "\n",
      "val Loss: 0.6684 | Accuracy: 0.7890\n",
      "\n",
      "Epoch 13/15:\n",
      "\n",
      "train Loss: 0.6530 | Accuracy: 0.7857\n",
      "\n",
      "val Loss: 0.7136 | Accuracy: 0.7665\n",
      "\n",
      "Epoch 14/15:\n",
      "\n",
      "train Loss: 0.6322 | Accuracy: 0.7936\n",
      "\n",
      "val Loss: 0.6104 | Accuracy: 0.8009\n",
      "\n",
      "Epoch 15/15:\n",
      "\n",
      "train Loss: 0.6268 | Accuracy: 0.7959\n",
      "\n",
      "val Loss: 0.6125 | Accuracy: 0.7972\n",
      "\n",
      "Training complete in 27m 35s\n"
     ]
    }
   ],
   "source": [
    "net_15, train_hist_15, val_hist_15 = train_model(net_15, dataloaders_dict, criterion, optimizer_15, 15)"
   ]
  },
  {
   "cell_type": "code",
   "execution_count": 147,
   "metadata": {
    "colab": {
     "base_uri": "https://localhost:8080/",
     "height": 296
    },
    "colab_type": "code",
    "executionInfo": {
     "elapsed": 997,
     "status": "ok",
     "timestamp": 1553872744863,
     "user": {
      "displayName": "RouSage",
      "photoUrl": "https://lh4.googleusercontent.com/-Uvsp4w70AS8/AAAAAAAAAAI/AAAAAAAAAMQ/UlSyYZGV0S8/s64/photo.jpg",
      "userId": "06105117302641127025"
     },
     "user_tz": -180
    },
    "id": "1X41Ur1JB4y-",
    "outputId": "5aa8ded8-0e4d-4109-9264-9ab2f6777464"
   },
   "outputs": [
    {
     "data": {
      "text/plain": [
       "<matplotlib.legend.Legend at 0x7fbd6033dc88>"
      ]
     },
     "execution_count": 147,
     "metadata": {
      "tags": []
     },
     "output_type": "execute_result"
    },
    {
     "data": {
      "image/png": "[encoded data removed]",
      "text/plain": [
       "<Figure size 432x288 with 1 Axes>"
      ]
     },
     "metadata": {
      "tags": []
     },
     "output_type": "display_data"
    }
   ],
   "source": [
    "# Plot train/validation accuracy\n",
    "plt.plot(train_hist_15, label=\"Train\")\n",
    "plt.plot(val_hist_15, label=\"Validation\")\n",
    "plt.xlabel(\"Epochs\")\n",
    "plt.ylabel(\"Accuracy\")\n",
    "plt.legend(loc=\"best\")"
   ]
  },
  {
   "cell_type": "code",
   "execution_count": 0,
   "metadata": {
    "colab": {},
    "colab_type": "code",
    "id": "qenuJtxZYscc"
   },
   "outputs": [],
   "source": [
    "save_model(net_15, os.path.join(path_to_app, \"trained_models\", \"net_15e_080acc.pt\"))"
   ]
  },
  {
   "cell_type": "code",
   "execution_count": 0,
   "metadata": {
    "colab": {},
    "colab_type": "code",
    "id": "obAzfYFqi15-"
   },
   "outputs": [],
   "source": [
    "net_25 = CNN()\n",
    "net_25 = net_25.to(device)\n",
    "\n",
    "optimizer_25 = optim.Adam(net_25.parameters(), lr=0.001)"
   ]
  },
  {
   "cell_type": "code",
   "execution_count": 138,
   "metadata": {
    "colab": {
     "base_uri": "https://localhost:8080/",
     "height": 2584
    },
    "colab_type": "code",
    "executionInfo": {
     "elapsed": 2812668,
     "status": "ok",
     "timestamp": 1553872311085,
     "user": {
      "displayName": "RouSage",
      "photoUrl": "https://lh4.googleusercontent.com/-Uvsp4w70AS8/AAAAAAAAAAI/AAAAAAAAAMQ/UlSyYZGV0S8/s64/photo.jpg",
      "userId": "06105117302641127025"
     },
     "user_tz": -180
    },
    "id": "Cuj8HvOP1gyA",
    "outputId": "d3ea555f-568a-40de-ec00-789aacfa41d7"
   },
   "outputs": [
    {
     "name": "stdout",
     "output_type": "stream",
     "text": [
      "Epoch 1/25:\n",
      "\n",
      "train Loss: 1.7327 | Accuracy: 0.3507\n",
      "\n",
      "val Loss: 1.3176 | Accuracy: 0.5237\n",
      "\n",
      "Epoch 2/25:\n",
      "\n",
      "train Loss: 1.2765 | Accuracy: 0.5463\n",
      "\n",
      "val Loss: 1.0205 | Accuracy: 0.6403\n",
      "\n",
      "Epoch 3/25:\n",
      "\n",
      "train Loss: 1.0622 | Accuracy: 0.6323\n",
      "\n",
      "val Loss: 0.9220 | Accuracy: 0.6799\n",
      "\n",
      "Epoch 4/25:\n",
      "\n",
      "train Loss: 0.9431 | Accuracy: 0.6826\n",
      "\n",
      "val Loss: 0.8117 | Accuracy: 0.7240\n",
      "\n",
      "Epoch 5/25:\n",
      "\n",
      "train Loss: 0.8709 | Accuracy: 0.7058\n",
      "\n",
      "val Loss: 0.7912 | Accuracy: 0.7341\n",
      "\n",
      "Epoch 6/25:\n",
      "\n",
      "train Loss: 0.8164 | Accuracy: 0.7277\n",
      "\n",
      "val Loss: 0.7181 | Accuracy: 0.7572\n",
      "\n",
      "Epoch 7/25:\n",
      "\n",
      "train Loss: 0.7814 | Accuracy: 0.7400\n",
      "\n",
      "val Loss: 0.7316 | Accuracy: 0.7555\n",
      "\n",
      "Epoch 8/25:\n",
      "\n",
      "train Loss: 0.7427 | Accuracy: 0.7541\n",
      "\n",
      "val Loss: 0.7104 | Accuracy: 0.7700\n",
      "\n",
      "Epoch 9/25:\n",
      "\n",
      "train Loss: 0.7147 | Accuracy: 0.7656\n",
      "\n",
      "val Loss: 0.6816 | Accuracy: 0.7654\n",
      "\n",
      "Epoch 10/25:\n",
      "\n",
      "train Loss: 0.6895 | Accuracy: 0.7739\n",
      "\n",
      "val Loss: 0.6490 | Accuracy: 0.7879\n",
      "\n",
      "Epoch 11/25:\n",
      "\n",
      "train Loss: 0.6715 | Accuracy: 0.7797\n",
      "\n",
      "val Loss: 0.6602 | Accuracy: 0.7853\n",
      "\n",
      "Epoch 12/25:\n",
      "\n",
      "train Loss: 0.6567 | Accuracy: 0.7863\n",
      "\n",
      "val Loss: 0.6143 | Accuracy: 0.8018\n",
      "\n",
      "Epoch 13/25:\n",
      "\n",
      "train Loss: 0.6322 | Accuracy: 0.7924\n",
      "\n",
      "val Loss: 0.6134 | Accuracy: 0.8043\n",
      "\n",
      "Epoch 14/25:\n",
      "\n",
      "train Loss: 0.6278 | Accuracy: 0.7968\n",
      "\n",
      "val Loss: 0.5900 | Accuracy: 0.8081\n",
      "\n",
      "Epoch 15/25:\n",
      "\n",
      "train Loss: 0.6164 | Accuracy: 0.8004\n",
      "\n",
      "val Loss: 0.7050 | Accuracy: 0.7997\n",
      "\n",
      "Epoch 16/25:\n",
      "\n",
      "train Loss: 0.5948 | Accuracy: 0.8074\n",
      "\n",
      "val Loss: 0.6215 | Accuracy: 0.7995\n",
      "\n",
      "Epoch 17/25:\n",
      "\n",
      "train Loss: 0.5966 | Accuracy: 0.8075\n",
      "\n",
      "val Loss: 0.6062 | Accuracy: 0.8061\n",
      "\n",
      "Epoch 18/25:\n",
      "\n",
      "train Loss: 0.5820 | Accuracy: 0.8149\n",
      "\n",
      "val Loss: 0.6127 | Accuracy: 0.8103\n",
      "\n",
      "Epoch 19/25:\n",
      "\n",
      "train Loss: 0.5681 | Accuracy: 0.8173\n",
      "\n",
      "val Loss: 0.5934 | Accuracy: 0.8171\n",
      "\n",
      "Epoch 20/25:\n",
      "\n",
      "train Loss: 0.5615 | Accuracy: 0.8179\n",
      "\n",
      "val Loss: 0.6301 | Accuracy: 0.7970\n",
      "\n",
      "Epoch 21/25:\n",
      "\n",
      "train Loss: 0.5589 | Accuracy: 0.8209\n",
      "\n",
      "val Loss: 0.6087 | Accuracy: 0.8040\n",
      "\n",
      "Epoch 22/25:\n",
      "\n",
      "train Loss: 0.5442 | Accuracy: 0.8242\n",
      "\n",
      "val Loss: 0.5995 | Accuracy: 0.8037\n",
      "\n",
      "Epoch 23/25:\n",
      "\n",
      "train Loss: 0.5419 | Accuracy: 0.8246\n",
      "\n",
      "val Loss: 0.6055 | Accuracy: 0.8124\n",
      "\n",
      "Epoch 24/25:\n",
      "\n",
      "train Loss: 0.5381 | Accuracy: 0.8266\n",
      "\n",
      "val Loss: 0.5905 | Accuracy: 0.8097\n",
      "\n",
      "Epoch 25/25:\n",
      "\n",
      "train Loss: 0.5325 | Accuracy: 0.8290\n",
      "\n",
      "val Loss: 0.6188 | Accuracy: 0.8129\n",
      "\n",
      "Training complete in 46m 52s\n"
     ]
    }
   ],
   "source": [
    "net_25, train_acc_hist_25, val_acc_hist_25 = train_model(net_25, dataloaders_dict, criterion, optimizer_25, 25)"
   ]
  },
  {
   "cell_type": "code",
   "execution_count": 149,
   "metadata": {
    "colab": {
     "base_uri": "https://localhost:8080/",
     "height": 296
    },
    "colab_type": "code",
    "executionInfo": {
     "elapsed": 847,
     "status": "ok",
     "timestamp": 1553872818737,
     "user": {
      "displayName": "RouSage",
      "photoUrl": "https://lh4.googleusercontent.com/-Uvsp4w70AS8/AAAAAAAAAAI/AAAAAAAAAMQ/UlSyYZGV0S8/s64/photo.jpg",
      "userId": "06105117302641127025"
     },
     "user_tz": -180
    },
    "id": "1YoW4h--CV_d",
    "outputId": "7591900f-9dcd-494c-b8b3-a0969adf888b"
   },
   "outputs": [
    {
     "data": {
      "text/plain": [
       "<matplotlib.legend.Legend at 0x7fbd65ef7fd0>"
      ]
     },
     "execution_count": 149,
     "metadata": {
      "tags": []
     },
     "output_type": "execute_result"
    },
    {
     "data": {
      "image/png": "[encoded data removed]",
      "text/plain": [
       "<Figure size 432x288 with 1 Axes>"
      ]
     },
     "metadata": {
      "tags": []
     },
     "output_type": "display_data"
    }
   ],
   "source": [
    "# Plot train/validation accuracy\n",
    "plt.plot(train_acc_hist_25, label=\"Train\")\n",
    "plt.plot(val_acc_hist_25, label=\"Validation\")\n",
    "plt.xlabel(\"Epochs\")\n",
    "plt.ylabel(\"Accuracy\")\n",
    "plt.legend(loc=\"best\")"
   ]
  },
  {
   "cell_type": "code",
   "execution_count": 0,
   "metadata": {
    "colab": {},
    "colab_type": "code",
    "id": "jy8iXlm61ufN"
   },
   "outputs": [],
   "source": [
    "save_model(net_25, os.path.join(path_to_app, \"trained_models\", \"net_25e_081acc.pt\"))"
   ]
  },
  {
   "cell_type": "code",
   "execution_count": 0,
   "metadata": {
    "colab": {},
    "colab_type": "code",
    "id": "J5w-_bovBHOR"
   },
   "outputs": [],
   "source": []
  }
 ],
 "metadata": {
  "accelerator": "GPU",
  "colab": {
   "name": "diploma.ipynb",
   "provenance": [],
   "version": "0.3.2"
  },
  "kernelspec": {
   "display_name": "Python 3",
   "language": "python",
   "name": "python3"
  },
  "language_info": {
   "codemirror_mode": {
    "name": "ipython",
    "version": 3
   },
   "file_extension": ".py",
   "mimetype": "text/x-python",
   "name": "python",
   "nbconvert_exporter": "python",
   "pygments_lexer": "ipython3",
   "version": "3.6.7rc1"
  }
 },
 "nbformat": 4,
 "nbformat_minor": 1
}
